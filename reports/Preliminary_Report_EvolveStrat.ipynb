{
 "cells": [
  {
   "cell_type": "markdown",
   "metadata": {},
   "source": [
    "# Evolving Game Strategies - Preliminary Report\n",
    "Authors: Subhash Gubba and Kai Levy\n",
    "## Abstract\n",
    "We will investigate evolutionary game theory strategies and their implementations to see which ones emerge dominant. We intend to use agent-based modeling (with the help of the Mesa python ABM library) to investigate it. Our first approach will be to mimic the “Evolution of Ethnocentrism” experiment and try various ways to extend it in small ways. A possible reach extension of this project could include implementing a genetic algorithm to see which aspects of strategies might appear in successful ones."
   ]
  },
  {
   "cell_type": "markdown",
   "metadata": {},
   "source": [
    "## Experiment 1 - General Implementation\n",
    "Here we attempt to replicate the agent-based ethnicity model proposed by Hartshorn, Kaznatcheev, and Thomas Shultz.\n",
    "\n",
    "**Q** - Does our implementation of the model perform similarly to the original model? Does the number of agents for each behavior over time resemble that of the original model?\n",
    "\n",
    "**M** - We utilize the Mesa ABM library to create our framework for the agent-based model. We implement the steps of the model including reproduction and death of agents. We then run the model and collect the data for analysis.\n",
    "\n",
    "**R** - see the results below:"
   ]
  },
  {
   "cell_type": "code",
   "execution_count": null,
   "metadata": {
    "collapsed": false
   },
   "outputs": [],
   "source": [
    "import pandas as pd\n",
    "from itertools import chain, combinations\n",
    "import matplotlib.pyplot as plt\n",
    "%matplotlib inline\n",
    "import sys\n",
    "import os\n",
    "sys.path.append(os.path.abspath('../code'))\n",
    "from ethno import EthnoModel, EthnoAgent, BEHAVIOR_KEY"
   ]
  },
  {
   "cell_type": "markdown",
   "metadata": {},
   "source": [
    "We begin by initializing the model with all behaviors (\"Ethnocentric\",\"Humanitarian\", \"Selfish\", \"Traitor\") and run for around 500 steps."
   ]
  },
  {
   "cell_type": "code",
   "execution_count": null,
   "metadata": {
    "collapsed": false
   },
   "outputs": [],
   "source": [
    "m = EthnoModel(5,50,50,1,0.005, [0b00, 0b01, 0b10, 0b11], max_iters=1000)"
   ]
  },
  {
   "cell_type": "code",
   "execution_count": null,
   "metadata": {
    "collapsed": true
   },
   "outputs": [],
   "source": [
    "m.run_model()"
   ]
  },
  {
   "cell_type": "code",
   "execution_count": null,
   "metadata": {
    "collapsed": true
   },
   "outputs": [],
   "source": [
    "data = m.datacollector.get_model_vars_dataframe()"
   ]
  },
  {
   "cell_type": "code",
   "execution_count": null,
   "metadata": {
    "collapsed": false
   },
   "outputs": [],
   "source": [
    "ax = data[[\"Humanitarian\",\"Traitor\", \"Ethnocentric\", \"Selfish\"]].plot()\n",
    "ax.set_title(\"Population and Behavior Over Time\")\n",
    "ax.set_xlabel(\"Step\")\n",
    "ax.set_ylabel(\"Number of Agents\")\n",
    "_ = ax.legend(bbox_to_anchor=(1.35, 1.025))"
   ]
  },
  {
   "cell_type": "markdown",
   "metadata": {},
   "source": [
    "The original experiment that we recreated:\n",
    "![Original Experiment Behavior Timeseries](./images/jasss_report_timescale.png)"
   ]
  },
  {
   "cell_type": "markdown",
   "metadata": {},
   "source": [
    "**I** - The results very closely resemble that of the original model's findings: Ethnocentrism and Humanitarianism are the leaders in the early stages, with ethnocentrism dominating by the 500th (or so) step. Traitorish is the worst performing trait, then Selfish, but neither of them die out completely."
   ]
  },
  {
   "cell_type": "markdown",
   "metadata": {},
   "source": [
    "## Experiment 2 - Varying Behaviors Validation\n",
    "The original paper explores how different combinations of behaviors in the model effect the numbers.\n",
    "\n",
    "**Q** - Does our model perform the same way the original model does when behaviors are variably included?\n",
    "\n",
    "**M** - We use the same model implemented, and run it for 2000 steps for each combination of variables, and then observe the average behavior counts for the last 100 steps of the simulation.\n",
    "\n",
    "**R** - see the results below. This first table is from the original paper. The second table is the DataFrame that depicts our results."
   ]
  },
  {
   "cell_type": "markdown",
   "metadata": {},
   "source": [
    "#### Table from Paper - Varied Behavior Inclusion\n",
    "![Allowed Behavior Mean Agent Counts](./images/meanagentstable.PNG)"
   ]
  },
  {
   "cell_type": "markdown",
   "metadata": {},
   "source": [
    "A powerset defines all the combinations of behaviors we want to run."
   ]
  },
  {
   "cell_type": "code",
   "execution_count": null,
   "metadata": {
    "collapsed": false
   },
   "outputs": [],
   "source": [
    "def powerset(orig_list):\n",
    "    new_list = list([y for y in orig_list])\n",
    "    return [list(x) for x in list(chain.from_iterable(combinations(new_list, item) for item in range(1,len(new_list)+1)))]"
   ]
  },
  {
   "cell_type": "code",
   "execution_count": null,
   "metadata": {
    "collapsed": false
   },
   "outputs": [],
   "source": [
    "behavior_combs = powerset([0b00,0b01,0b10,0b11])\n",
    "print(behavior_combs)"
   ]
  },
  {
   "cell_type": "code",
   "execution_count": null,
   "metadata": {
    "collapsed": false
   },
   "outputs": [],
   "source": [
    "behavior_labels = [[BEHAVIOR_KEY[y] for y in x] for x in behavior_combs]"
   ]
  },
  {
   "cell_type": "code",
   "execution_count": null,
   "metadata": {
    "collapsed": false
   },
   "outputs": [],
   "source": [
    "behavior_labels"
   ]
  },
  {
   "cell_type": "code",
   "execution_count": null,
   "metadata": {
    "collapsed": false
   },
   "outputs": [],
   "source": [
    "behavior_counts_dict = {}\n",
    "counter = 0\n",
    "S_sim_count = 0\n",
    "T_sim_count = 0\n",
    "E_sim_count = 0\n",
    "H_sim_count = 0\n",
    "for b_list in behavior_combs:\n",
    "    for _ in range(10):\n",
    "        m = EthnoModel(5,50,50,1,0.005, b_list, max_iters=2000)\n",
    "        m.run_model()\n",
    "        data = m.datacollector.get_model_vars_dataframe()\n",
    "        S_sim_count += data.Selfish[1900:].get_values().mean()\n",
    "        T_sim_count += data.Traitor[1900:].get_values().mean()\n",
    "        E_sim_count += data.Ethnocentric[1900:].get_values().mean()\n",
    "        H_sim_count += data.Humanitarian[1900:].get_values().mean()\n",
    "    behavior_counts_dict[''.join(behavior_labels[counter])] = [S_sim_count/10.0,T_sim_count/10.0,E_sim_count/10.0,H_sim_count/10.0]\n",
    "    counter+=1\n",
    "    \n",
    "    "
   ]
  },
  {
   "cell_type": "code",
   "execution_count": null,
   "metadata": {
    "collapsed": false
   },
   "outputs": [],
   "source": [
    "behavior_counts_dict"
   ]
  },
  {
   "cell_type": "markdown",
   "metadata": {
    "collapsed": false
   },
   "source": [
    "We now have a set of results for the mean counts of each behavior. We can also compare this with the original table."
   ]
  },
  {
   "cell_type": "code",
   "execution_count": null,
   "metadata": {
    "collapsed": false
   },
   "outputs": [],
   "source": [
    "behavior_counts_table = pd.DataFrame(behavior_counts_dict).transpose()\n",
    "behavior_counts_table.columns = ['S','T','E','H']"
   ]
  },
  {
   "cell_type": "code",
   "execution_count": null,
   "metadata": {
    "collapsed": false
   },
   "outputs": [],
   "source": [
    "newtemp = behavior_counts_table[['E','H','S','T']]\n",
    "newtemp.reindex(['STEH','STH','TEH','SEH','STE','ST','TH','SH','TE','SE','EH','E','H','S','T'])"
   ]
  },
  {
   "cell_type": "code",
   "execution_count": null,
   "metadata": {
    "collapsed": false
   },
   "outputs": [],
   "source": [
    "newtemp['E %'] = (newtemp['E']/newtemp.sum(1,0))*100\n",
    "newtemp['H %'] = (newtemp['H']/newtemp.sum(1,0))*100\n",
    "newtemp['S %'] = (newtemp['S']/newtemp.sum(1,0))*100\n",
    "newtemp['T %'] = (newtemp['T']/newtemp.sum(1,0))*100\n",
    "newtemp[['E %','H %','S %','T %']].reindex(['STEH','STH','TEH','SEH','STE','ST','TH','SH','TE','SE','EH','E','H','S','T'])"
   ]
  },
  {
   "cell_type": "markdown",
   "metadata": {},
   "source": [
    "We can look at the the two tables to see what percentages of the total population they were, and then observe the differences in those percentages."
   ]
  },
  {
   "cell_type": "code",
   "execution_count": null,
   "metadata": {
    "collapsed": false
   },
   "outputs": [],
   "source": [
    "orig_model_results = {'E': [100.0, 0.0, 0.0, 0.0],\n",
    " 'EH': [84.19, 15.81, 0.0, 0.0],\n",
    " 'H': [0.0, 100.0, 0.0, 0],\n",
    " 'S': [0.0, 0.0, 100.0, 0.0],\n",
    " 'SE': [90.1, 0.0, 9.99, 0.0],\n",
    " 'SEH': [74.97, 17.17, 7.86, 0.0],\n",
    " 'SH': [0.0, 91.39, 8.61, 0.0],\n",
    " 'ST': [0.0, 0.0, 66.12, 33.88],\n",
    " 'STE': [89.08, 0.0, 8.88, 2.04],\n",
    " 'STEH': [74.78,14.48,7.77,2.97],\n",
    " 'STH': [0.0, 83.77, 7.04, 9.19],\n",
    " 'T': [0.0, 0.0, 0.0, 100.0],\n",
    " 'TE': [97.91, 0.0, 0.0, 2.01],\n",
    " 'TEH': [82.35, 15.25, 0.0, 2.41],\n",
    " 'TH': [0.0, 88.72, 0.0, 11.28]}\n",
    "\n",
    "orig_model_table = pd.DataFrame(orig_model_results).transpose()\n",
    "orig_model_table.columns = ['E %', 'H %', 'S %', 'T %']\n",
    "orig_model_table.reindex(['STEH','STH','TEH','SEH','STE','ST','TH','SH','TE','SE','EH','E','H','S','T'])\n",
    "orig_model_table - newtemp[['E %','H %','S %','T %']]"
   ]
  },
  {
   "cell_type": "code",
   "execution_count": null,
   "metadata": {
    "collapsed": true
   },
   "outputs": [],
   "source": []
  },
  {
   "cell_type": "markdown",
   "metadata": {},
   "source": [
    "**I** - Our results above seem to match relatively closely with the table from the paper. The differences in percentages depicted above are not very large with the exception of the simulation where only selfish and traitorous behvaiors were included. Judging based on this fact, it should be safe to say that our implementation of the model is accurate to that of the original one."
   ]
  },
  {
   "cell_type": "markdown",
   "metadata": {},
   "source": [
    "![Allowed Behavior Mean Agent Counts](./images/meanagentstable.PNG)"
   ]
  },
  {
   "cell_type": "markdown",
   "metadata": {},
   "source": [
    "### Additional extensions\n",
    "We have not yet designed further experiments, because we would like to extend the model in ways that the papers we referenced have not tried yet. Below are a few ideas that we have brainstormed about potential model extensions:\n",
    "- Allowing for \"alliances\", agents which will cooperate with some agents of other tags.\n",
    "- Making tags more ambiguous, agents cannot tell for certain what tag another agent exhibits\n",
    "- Iterative game playing, with more complex strategies\n",
    "- Aging and lifespan (not a complete extension, but may be useful)"
   ]
  },
  {
   "cell_type": "markdown",
   "metadata": {},
   "source": [
    "### Learning Goals\n",
    "\n",
    "#### Subhash:\n",
    "I would like to gain a better understand of how agent based models are implemented and evolved. I want to learn what types of evaluation metrics matter for our experiments and explore how this project could be applied to other fields as well.\n",
    "\n",
    "Working through this implementation and performing the validation experiments has helped me achieve this goal. I have yet to see how we might apply this to other fields.\n",
    "\n",
    "#### Kai:\n",
    "I have made progress towards my learning goal in the process of implementing the ethnocentrism model. The experience of reading through a paper in order to recreate it's results was very valuable for me.\n",
    "\n",
    "For the rest of the project, I would like to do more exploration with extensions (as opposed copying existing experiments). In particular, I want to come up interesting extensions that are not so complex that they muddle insights. I want to ask questions that can be compared to human behavior (like original question of ethnocentrism), and hopefully answer them with experiments in our model."
   ]
  },
  {
   "cell_type": "markdown",
   "metadata": {},
   "source": [
    "## Bibliography\n",
    "- Ross Hammond, Robert Axelrod. [“The Evolution of Ethnocentrism” (2006).](\n",
    "http://citeseerx.ist.psu.edu/viewdoc/download?doi=10.1.1.576.4696&rep=rep1&type=pdf.)\n",
    "  *Investigates prisoner’s dilemma on a grid, with four basic tags and linked behaviors. Simulates the agents by playing the game one-off, with results having implications on individual reproductivity. Demonstrates that in-group favoritism can emerge as beneficial for groups, even when individual cooperation is costly.*\n",
    "\n",
    "\n",
    "- Max Hartshorna, Artem Kaznatcheeva, Thomas Shultz. [“The Evolutionary Dominance of Ethnocentric Cooperation” (2013).](http://jasss.soc.surrey.ac.uk/16/3/7.html)\n",
    "*Replicates the experiment from Hammond, Axelrod (2006). Investigates different “worlds” where certain behaviors may or may not be present, and demonstrates that humanitarianism becomes dominant in the absence of ethnocentrism, but ethnocentrism dominates otherwise.*\n",
    "\n",
    "\n",
    "- Jennifer Golbeck. [\"Evolving Strategies for the Prisoner’s Dilemma\" (2002).](https://www.cs.umd.edu/~golbeck/downloads/JGolbeck_prison.pdf)\n",
    "*This paper applies a genetic algorithm to the Prisoner’s Dilemma and evaluates the resulting winning strategies against two well-known effective strategies: Pavlov and Tit-for-tat. Each round of the algorithm is a series of multiple games with randomly strategized players, and the emerging strategies show aspects of the two control strategies.*\n",
    "\n",
    "\n",
    "- Wikipedia. [\"List of games in game theory\".](https://en.wikipedia.org/wiki/List_of_games_in_game_theory)\n",
    "*Contains a list of games for which we may apply agent-based models and evolutionary strategies in game theory.*"
   ]
  }
 ],
 "metadata": {
  "anaconda-cloud": {},
  "kernelspec": {
   "display_name": "Python [default]",
   "language": "python",
   "name": "python3"
  },
  "language_info": {
   "codemirror_mode": {
    "name": "ipython",
    "version": 3
   },
   "file_extension": ".py",
   "mimetype": "text/x-python",
   "name": "python",
   "nbconvert_exporter": "python",
   "pygments_lexer": "ipython3",
   "version": "3.5.2"
  }
 },
 "nbformat": 4,
 "nbformat_minor": 1
}
