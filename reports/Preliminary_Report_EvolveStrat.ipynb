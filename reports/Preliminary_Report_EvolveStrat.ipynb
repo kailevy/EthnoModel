{
 "cells": [
  {
   "cell_type": "markdown",
   "metadata": {},
   "source": [
    "# Evolving Game Strategies - Preliminary Report\n",
    "Authors: Subhash Gubba and Kai Levy\n",
    "## Abstract\n",
    "We will investigate evolutionary game theory strategies and their implementations to see which ones emerge dominant. We intend to use agent-based modeling (with the help of the Mesa python ABM library) to investigate it. Our first approach will be to mimic the “Evolution of Ethnocentrism” experiment and try various ways to extend it in small ways. A possible reach extension of this project could include implementing a genetic algorithm to see which aspects of strategies might appear in successful ones."
   ]
  },
  {
   "cell_type": "markdown",
   "metadata": {},
   "source": [
    "## Experiment 1 - General Implementation\n",
    "Here we attempt to replicate the agent-based ethnicity model proposed by Hartshorn, Kaznatcheev, and Thomas Shultz.\n",
    "\n",
    "**Q** - Does our implementation of the model perform similarly to the original model? Does the number of agents for each behavior over time resemble that of the original model?\n",
    "\n",
    "**M** - We utilize the Mesa ABM library to create our framework for the agent-based model. We implement the steps of the model including reproduction and death of agents. We then run the model and collect the data for analysis.\n",
    "\n",
    "**R** - see the results below:"
   ]
  },
  {
   "cell_type": "code",
   "execution_count": 1,
   "metadata": {
    "collapsed": false
   },
   "outputs": [],
   "source": [
    "import pandas as pd\n",
    "from itertools import chain, combinations\n",
    "import matplotlib.pyplot as plt\n",
    "%matplotlib inline\n",
    "import sys\n",
    "import os\n",
    "sys.path.append(os.path.abspath('../code'))\n",
    "from ethno import EthnoModel, EthnoAgent, BEHAVIOR_KEY"
   ]
  },
  {
   "cell_type": "markdown",
   "metadata": {},
   "source": [
    "We begin by initializing the model with all behaviors (\"Ethnocentric\",\"Humanitarian\", \"Selfish\", \"Traitor\") and run for around 500 steps."
   ]
  },
  {
   "cell_type": "code",
   "execution_count": null,
   "metadata": {
    "collapsed": false
   },
   "outputs": [],
   "source": [
    "m = EthnoModel(5,50,50,1,0.005, [0b00, 0b01, 0b10, 0b11], max_iters=1000)"
   ]
  },
  {
   "cell_type": "code",
   "execution_count": null,
   "metadata": {
    "collapsed": true
   },
   "outputs": [],
   "source": [
    "m.run_model()"
   ]
  },
  {
   "cell_type": "code",
   "execution_count": null,
   "metadata": {
    "collapsed": true
   },
   "outputs": [],
   "source": [
    "data = m.datacollector.get_model_vars_dataframe()"
   ]
  },
  {
   "cell_type": "code",
   "execution_count": null,
   "metadata": {
    "collapsed": false
   },
   "outputs": [],
   "source": [
    "ax = data[[\"Humanitarian\",\"Traitor\", \"Ethnocentric\", \"Selfish\"]].plot()\n",
    "ax.set_title(\"Population and Behavior Over Time\")\n",
    "ax.set_xlabel(\"Step\")\n",
    "ax.set_ylabel(\"Number of Agents\")\n",
    "_ = ax.legend(bbox_to_anchor=(1.35, 1.025))"
   ]
  },
  {
   "cell_type": "markdown",
   "metadata": {},
   "source": [
    "The original experiment that we recreated:\n",
    "![Original Experiment Behavior Timeseries](./images/jasss_report_timescale.png)"
   ]
  },
  {
   "cell_type": "markdown",
   "metadata": {},
   "source": [
    "**I** - The results very closely resemble that of the original model's findings: Ethnocentrism and Humanitarianism are the leaders in the early stages, with ethnocentrism dominating by the 500th (or so) step. Traitorish is the worst performing trait, then Selfish, but neither of them die out completely."
   ]
  },
  {
   "cell_type": "markdown",
   "metadata": {},
   "source": [
    "## Experiment 2 - Varying Behaviors Validation\n",
    "The original paper explores how different combinations of behaviors in the model effect the numbers.\n",
    "\n",
    "**Q** - Does our model perform the same way the original model does when behaviors are variably included?\n",
    "\n",
    "**M** - We use the same model implemented, and run it for 2000 steps for each combination of variables, and then observe the average behavior counts for the last 100 steps of the simulation.\n",
    "\n",
    "**R** - see the results below. This first table is from the original paper. The second table is the DataFrame that depicts our results."
   ]
  },
  {
   "cell_type": "markdown",
   "metadata": {},
   "source": [
    "#### Table from Paper - Varied Behavior Inclusion\n",
    "![Allowed Behavior Mean Agent Counts](./images/meanagentstable.PNG)"
   ]
  },
  {
   "cell_type": "markdown",
   "metadata": {},
   "source": [
    "A powerset defines all the combinations of behaviors we want to run."
   ]
  },
  {
   "cell_type": "code",
   "execution_count": 2,
   "metadata": {
    "collapsed": false
   },
   "outputs": [],
   "source": [
    "def powerset(orig_list):\n",
    "    new_list = list([y for y in orig_list])\n",
    "    return [list(x) for x in list(chain.from_iterable(combinations(new_list, item) for item in range(1,len(new_list)+1)))]"
   ]
  },
  {
   "cell_type": "code",
   "execution_count": 3,
   "metadata": {
    "collapsed": false
   },
   "outputs": [
    {
     "name": "stdout",
     "output_type": "stream",
     "text": [
      "[[0], [1], [2], [3], [0, 1], [0, 2], [0, 3], [1, 2], [1, 3], [2, 3], [0, 1, 2], [0, 1, 3], [0, 2, 3], [1, 2, 3], [0, 1, 2, 3]]\n"
     ]
    }
   ],
   "source": [
    "behavior_combs = powerset([0b00,0b01,0b10,0b11])\n",
    "print(behavior_combs)"
   ]
  },
  {
   "cell_type": "code",
   "execution_count": 4,
   "metadata": {
    "collapsed": false
   },
   "outputs": [],
   "source": [
    "behavior_labels = [[BEHAVIOR_KEY[y] for y in x] for x in behavior_combs]"
   ]
  },
  {
   "cell_type": "code",
   "execution_count": 5,
   "metadata": {
    "collapsed": false
   },
   "outputs": [
    {
     "data": {
      "text/plain": [
       "[['S'],\n",
       " ['T'],\n",
       " ['E'],\n",
       " ['H'],\n",
       " ['S', 'T'],\n",
       " ['S', 'E'],\n",
       " ['S', 'H'],\n",
       " ['T', 'E'],\n",
       " ['T', 'H'],\n",
       " ['E', 'H'],\n",
       " ['S', 'T', 'E'],\n",
       " ['S', 'T', 'H'],\n",
       " ['S', 'E', 'H'],\n",
       " ['T', 'E', 'H'],\n",
       " ['S', 'T', 'E', 'H']]"
      ]
     },
     "execution_count": 5,
     "metadata": {},
     "output_type": "execute_result"
    }
   ],
   "source": [
    "behavior_labels"
   ]
  },
  {
   "cell_type": "code",
   "execution_count": 12,
   "metadata": {
    "collapsed": false
   },
   "outputs": [],
   "source": [
    "behavior_counts_dict = {}\n",
    "counter = 0\n",
    "for b_list in behavior_combs:\n",
    "    S_sim_count = 0\n",
    "    T_sim_count = 0\n",
    "    E_sim_count = 0\n",
    "    H_sim_count = 0\n",
    " \n",
    "    for _ in range(10):\n",
    "        m = EthnoModel(5,50,50,1,0.005, b_list, max_iters=2000)\n",
    "        m.run_model()\n",
    "        data = m.datacollector.get_model_vars_dataframe()\n",
    "        S_sim_count += data.Selfish[1900:].get_values().mean()\n",
    "        T_sim_count += data.Traitor[1900:].get_values().mean()\n",
    "        E_sim_count += data.Ethnocentric[1900:].get_values().mean()\n",
    "        H_sim_count += data.Humanitarian[1900:].get_values().mean()\n",
    "    behavior_counts_dict[''.join(behavior_labels[counter])] = [S_sim_count/10.0,T_sim_count/10.0,E_sim_count/10.0,H_sim_count/10.0]\n",
    "    counter+=1\n",
    "    "
   ]
  },
  {
   "cell_type": "code",
   "execution_count": 13,
   "metadata": {
    "collapsed": false
   },
   "outputs": [
    {
     "data": {
      "text/plain": [
       "{'E': [0.0, 0.0, 1865.0455445544558, 0.0],\n",
       " 'EH': [0.0, 0.0, 1601.4792079207921, 262.65940594059407],\n",
       " 'H': [0.0, 0.0, 0.0, 1901.790099009901],\n",
       " 'S': [1497.3524752475246, 0.0, 0.0, 0.0],\n",
       " 'SE': [193.78910891089109, 0.0, 1639.6009900990098, 0.0],\n",
       " 'SEH': [164.44752475247526, 0.0, 1395.518811881188, 275.86732673267323],\n",
       " 'SH': [101.22772277227722, 0.0, 0.0, 1794.3188118811881],\n",
       " 'ST': [1323.0851485148517, 197.51584158415841, 0.0, 0.0],\n",
       " 'STE': [164.7930693069307, 13.445544554455447, 1645.0386138613862, 0.0],\n",
       " 'STEH': [159.070297029703,\n",
       "  33.017821782178217,\n",
       "  1426.0683168316832,\n",
       "  216.02178217821785],\n",
       " 'STH': [97.31584158415842, 195.2861386138614, 0.0, 1589.6396039603962],\n",
       " 'T': [0.0, 1675.4841584158414, 0.0, 0.0],\n",
       " 'TE': [0.0, 10.765346534653464, 1852.3019801980197, 0.0],\n",
       " 'TEH': [0.0, 25.247524752475247, 1600.220792079208, 240.51683168316831],\n",
       " 'TH': [0.0, 174.29900990099009, 0.0, 1722.4930693069309]}"
      ]
     },
     "execution_count": 13,
     "metadata": {},
     "output_type": "execute_result"
    }
   ],
   "source": [
    "behavior_counts_dict"
   ]
  },
  {
   "cell_type": "markdown",
   "metadata": {
    "collapsed": false
   },
   "source": [
    "We now have a set of results for the mean counts of each behavior. We can also compare this with the original table."
   ]
  },
  {
   "cell_type": "code",
   "execution_count": 14,
   "metadata": {
    "collapsed": false
   },
   "outputs": [],
   "source": [
    "behavior_counts_table = pd.DataFrame(behavior_counts_dict).transpose()\n",
    "behavior_counts_table.columns = ['S','T','E','H']"
   ]
  },
  {
   "cell_type": "code",
   "execution_count": 15,
   "metadata": {
    "collapsed": false
   },
   "outputs": [
    {
     "data": {
      "text/html": [
       "<div>\n",
       "<table border=\"1\" class=\"dataframe\">\n",
       "  <thead>\n",
       "    <tr style=\"text-align: right;\">\n",
       "      <th></th>\n",
       "      <th>E</th>\n",
       "      <th>H</th>\n",
       "      <th>S</th>\n",
       "      <th>T</th>\n",
       "    </tr>\n",
       "  </thead>\n",
       "  <tbody>\n",
       "    <tr>\n",
       "      <th>STEH</th>\n",
       "      <td>1426.068317</td>\n",
       "      <td>216.021782</td>\n",
       "      <td>159.070297</td>\n",
       "      <td>33.017822</td>\n",
       "    </tr>\n",
       "    <tr>\n",
       "      <th>STH</th>\n",
       "      <td>0.000000</td>\n",
       "      <td>1589.639604</td>\n",
       "      <td>97.315842</td>\n",
       "      <td>195.286139</td>\n",
       "    </tr>\n",
       "    <tr>\n",
       "      <th>TEH</th>\n",
       "      <td>1600.220792</td>\n",
       "      <td>240.516832</td>\n",
       "      <td>0.000000</td>\n",
       "      <td>25.247525</td>\n",
       "    </tr>\n",
       "    <tr>\n",
       "      <th>SEH</th>\n",
       "      <td>1395.518812</td>\n",
       "      <td>275.867327</td>\n",
       "      <td>164.447525</td>\n",
       "      <td>0.000000</td>\n",
       "    </tr>\n",
       "    <tr>\n",
       "      <th>STE</th>\n",
       "      <td>1645.038614</td>\n",
       "      <td>0.000000</td>\n",
       "      <td>164.793069</td>\n",
       "      <td>13.445545</td>\n",
       "    </tr>\n",
       "    <tr>\n",
       "      <th>ST</th>\n",
       "      <td>0.000000</td>\n",
       "      <td>0.000000</td>\n",
       "      <td>1323.085149</td>\n",
       "      <td>197.515842</td>\n",
       "    </tr>\n",
       "    <tr>\n",
       "      <th>TH</th>\n",
       "      <td>0.000000</td>\n",
       "      <td>1722.493069</td>\n",
       "      <td>0.000000</td>\n",
       "      <td>174.299010</td>\n",
       "    </tr>\n",
       "    <tr>\n",
       "      <th>SH</th>\n",
       "      <td>0.000000</td>\n",
       "      <td>1794.318812</td>\n",
       "      <td>101.227723</td>\n",
       "      <td>0.000000</td>\n",
       "    </tr>\n",
       "    <tr>\n",
       "      <th>TE</th>\n",
       "      <td>1852.301980</td>\n",
       "      <td>0.000000</td>\n",
       "      <td>0.000000</td>\n",
       "      <td>10.765347</td>\n",
       "    </tr>\n",
       "    <tr>\n",
       "      <th>SE</th>\n",
       "      <td>1639.600990</td>\n",
       "      <td>0.000000</td>\n",
       "      <td>193.789109</td>\n",
       "      <td>0.000000</td>\n",
       "    </tr>\n",
       "    <tr>\n",
       "      <th>EH</th>\n",
       "      <td>1601.479208</td>\n",
       "      <td>262.659406</td>\n",
       "      <td>0.000000</td>\n",
       "      <td>0.000000</td>\n",
       "    </tr>\n",
       "    <tr>\n",
       "      <th>E</th>\n",
       "      <td>1865.045545</td>\n",
       "      <td>0.000000</td>\n",
       "      <td>0.000000</td>\n",
       "      <td>0.000000</td>\n",
       "    </tr>\n",
       "    <tr>\n",
       "      <th>H</th>\n",
       "      <td>0.000000</td>\n",
       "      <td>1901.790099</td>\n",
       "      <td>0.000000</td>\n",
       "      <td>0.000000</td>\n",
       "    </tr>\n",
       "    <tr>\n",
       "      <th>S</th>\n",
       "      <td>0.000000</td>\n",
       "      <td>0.000000</td>\n",
       "      <td>1497.352475</td>\n",
       "      <td>0.000000</td>\n",
       "    </tr>\n",
       "    <tr>\n",
       "      <th>T</th>\n",
       "      <td>0.000000</td>\n",
       "      <td>0.000000</td>\n",
       "      <td>0.000000</td>\n",
       "      <td>1675.484158</td>\n",
       "    </tr>\n",
       "  </tbody>\n",
       "</table>\n",
       "</div>"
      ],
      "text/plain": [
       "                E            H            S            T\n",
       "STEH  1426.068317   216.021782   159.070297    33.017822\n",
       "STH      0.000000  1589.639604    97.315842   195.286139\n",
       "TEH   1600.220792   240.516832     0.000000    25.247525\n",
       "SEH   1395.518812   275.867327   164.447525     0.000000\n",
       "STE   1645.038614     0.000000   164.793069    13.445545\n",
       "ST       0.000000     0.000000  1323.085149   197.515842\n",
       "TH       0.000000  1722.493069     0.000000   174.299010\n",
       "SH       0.000000  1794.318812   101.227723     0.000000\n",
       "TE    1852.301980     0.000000     0.000000    10.765347\n",
       "SE    1639.600990     0.000000   193.789109     0.000000\n",
       "EH    1601.479208   262.659406     0.000000     0.000000\n",
       "E     1865.045545     0.000000     0.000000     0.000000\n",
       "H        0.000000  1901.790099     0.000000     0.000000\n",
       "S        0.000000     0.000000  1497.352475     0.000000\n",
       "T        0.000000     0.000000     0.000000  1675.484158"
      ]
     },
     "execution_count": 15,
     "metadata": {},
     "output_type": "execute_result"
    }
   ],
   "source": [
    "newtemp = behavior_counts_table[['E','H','S','T']]\n",
    "newtemp.reindex(['STEH','STH','TEH','SEH','STE','ST','TH','SH','TE','SE','EH','E','H','S','T'])"
   ]
  },
  {
   "cell_type": "code",
   "execution_count": 16,
   "metadata": {
    "collapsed": false
   },
   "outputs": [
    {
     "name": "stderr",
     "output_type": "stream",
     "text": [
      "/home/klevy/Documents/Olin/3/complexity/EvolveStrat/venv/lib/python3.5/site-packages/ipykernel/__main__.py:1: SettingWithCopyWarning: \n",
      "A value is trying to be set on a copy of a slice from a DataFrame.\n",
      "Try using .loc[row_indexer,col_indexer] = value instead\n",
      "\n",
      "See the caveats in the documentation: http://pandas.pydata.org/pandas-docs/stable/indexing.html#indexing-view-versus-copy\n",
      "  if __name__ == '__main__':\n",
      "/home/klevy/Documents/Olin/3/complexity/EvolveStrat/venv/lib/python3.5/site-packages/ipykernel/__main__.py:2: SettingWithCopyWarning: \n",
      "A value is trying to be set on a copy of a slice from a DataFrame.\n",
      "Try using .loc[row_indexer,col_indexer] = value instead\n",
      "\n",
      "See the caveats in the documentation: http://pandas.pydata.org/pandas-docs/stable/indexing.html#indexing-view-versus-copy\n",
      "  from ipykernel import kernelapp as app\n",
      "/home/klevy/Documents/Olin/3/complexity/EvolveStrat/venv/lib/python3.5/site-packages/ipykernel/__main__.py:3: SettingWithCopyWarning: \n",
      "A value is trying to be set on a copy of a slice from a DataFrame.\n",
      "Try using .loc[row_indexer,col_indexer] = value instead\n",
      "\n",
      "See the caveats in the documentation: http://pandas.pydata.org/pandas-docs/stable/indexing.html#indexing-view-versus-copy\n",
      "  app.launch_new_instance()\n",
      "/home/klevy/Documents/Olin/3/complexity/EvolveStrat/venv/lib/python3.5/site-packages/ipykernel/__main__.py:4: SettingWithCopyWarning: \n",
      "A value is trying to be set on a copy of a slice from a DataFrame.\n",
      "Try using .loc[row_indexer,col_indexer] = value instead\n",
      "\n",
      "See the caveats in the documentation: http://pandas.pydata.org/pandas-docs/stable/indexing.html#indexing-view-versus-copy\n"
     ]
    },
    {
     "data": {
      "text/html": [
       "<div>\n",
       "<table border=\"1\" class=\"dataframe\">\n",
       "  <thead>\n",
       "    <tr style=\"text-align: right;\">\n",
       "      <th></th>\n",
       "      <th>E %</th>\n",
       "      <th>H %</th>\n",
       "      <th>S %</th>\n",
       "      <th>T %</th>\n",
       "    </tr>\n",
       "  </thead>\n",
       "  <tbody>\n",
       "    <tr>\n",
       "      <th>STEH</th>\n",
       "      <td>77.749714</td>\n",
       "      <td>11.298636</td>\n",
       "      <td>8.271012</td>\n",
       "      <td>1.709442</td>\n",
       "    </tr>\n",
       "    <tr>\n",
       "      <th>STH</th>\n",
       "      <td>0.000000</td>\n",
       "      <td>84.454600</td>\n",
       "      <td>4.948189</td>\n",
       "      <td>9.904734</td>\n",
       "    </tr>\n",
       "    <tr>\n",
       "      <th>TEH</th>\n",
       "      <td>85.757424</td>\n",
       "      <td>12.323184</td>\n",
       "      <td>0.000000</td>\n",
       "      <td>1.285472</td>\n",
       "    </tr>\n",
       "    <tr>\n",
       "      <th>SEH</th>\n",
       "      <td>76.015537</td>\n",
       "      <td>14.429346</td>\n",
       "      <td>8.537058</td>\n",
       "      <td>0.000000</td>\n",
       "    </tr>\n",
       "    <tr>\n",
       "      <th>STE</th>\n",
       "      <td>90.224272</td>\n",
       "      <td>0.000000</td>\n",
       "      <td>8.612121</td>\n",
       "      <td>0.699519</td>\n",
       "    </tr>\n",
       "    <tr>\n",
       "      <th>ST</th>\n",
       "      <td>0.000000</td>\n",
       "      <td>0.000000</td>\n",
       "      <td>87.010673</td>\n",
       "      <td>12.286291</td>\n",
       "    </tr>\n",
       "    <tr>\n",
       "      <th>TH</th>\n",
       "      <td>0.000000</td>\n",
       "      <td>90.810853</td>\n",
       "      <td>0.000000</td>\n",
       "      <td>8.769307</td>\n",
       "    </tr>\n",
       "    <tr>\n",
       "      <th>SH</th>\n",
       "      <td>0.000000</td>\n",
       "      <td>94.659708</td>\n",
       "      <td>5.086293</td>\n",
       "      <td>0.000000</td>\n",
       "    </tr>\n",
       "    <tr>\n",
       "      <th>TE</th>\n",
       "      <td>99.422171</td>\n",
       "      <td>0.000000</td>\n",
       "      <td>0.000000</td>\n",
       "      <td>0.548556</td>\n",
       "    </tr>\n",
       "    <tr>\n",
       "      <th>SE</th>\n",
       "      <td>89.430012</td>\n",
       "      <td>0.000000</td>\n",
       "      <td>10.078380</td>\n",
       "      <td>0.000000</td>\n",
       "    </tr>\n",
       "    <tr>\n",
       "      <th>EH</th>\n",
       "      <td>85.909878</td>\n",
       "      <td>13.469378</td>\n",
       "      <td>0.000000</td>\n",
       "      <td>0.000000</td>\n",
       "    </tr>\n",
       "    <tr>\n",
       "      <th>E</th>\n",
       "      <td>100.000000</td>\n",
       "      <td>0.000000</td>\n",
       "      <td>0.000000</td>\n",
       "      <td>0.000000</td>\n",
       "    </tr>\n",
       "    <tr>\n",
       "      <th>H</th>\n",
       "      <td>0.000000</td>\n",
       "      <td>100.000000</td>\n",
       "      <td>0.000000</td>\n",
       "      <td>0.000000</td>\n",
       "    </tr>\n",
       "    <tr>\n",
       "      <th>S</th>\n",
       "      <td>0.000000</td>\n",
       "      <td>0.000000</td>\n",
       "      <td>100.000000</td>\n",
       "      <td>0.000000</td>\n",
       "    </tr>\n",
       "    <tr>\n",
       "      <th>T</th>\n",
       "      <td>0.000000</td>\n",
       "      <td>0.000000</td>\n",
       "      <td>0.000000</td>\n",
       "      <td>100.000000</td>\n",
       "    </tr>\n",
       "  </tbody>\n",
       "</table>\n",
       "</div>"
      ],
      "text/plain": [
       "             E %         H %         S %         T %\n",
       "STEH   77.749714   11.298636    8.271012    1.709442\n",
       "STH     0.000000   84.454600    4.948189    9.904734\n",
       "TEH    85.757424   12.323184    0.000000    1.285472\n",
       "SEH    76.015537   14.429346    8.537058    0.000000\n",
       "STE    90.224272    0.000000    8.612121    0.699519\n",
       "ST      0.000000    0.000000   87.010673   12.286291\n",
       "TH      0.000000   90.810853    0.000000    8.769307\n",
       "SH      0.000000   94.659708    5.086293    0.000000\n",
       "TE     99.422171    0.000000    0.000000    0.548556\n",
       "SE     89.430012    0.000000   10.078380    0.000000\n",
       "EH     85.909878   13.469378    0.000000    0.000000\n",
       "E     100.000000    0.000000    0.000000    0.000000\n",
       "H       0.000000  100.000000    0.000000    0.000000\n",
       "S       0.000000    0.000000  100.000000    0.000000\n",
       "T       0.000000    0.000000    0.000000  100.000000"
      ]
     },
     "execution_count": 16,
     "metadata": {},
     "output_type": "execute_result"
    }
   ],
   "source": [
    "newtemp['E %'] = (newtemp['E']/newtemp.sum(1,0))*100\n",
    "newtemp['H %'] = (newtemp['H']/newtemp.sum(1,0))*100\n",
    "newtemp['S %'] = (newtemp['S']/newtemp.sum(1,0))*100\n",
    "newtemp['T %'] = (newtemp['T']/newtemp.sum(1,0))*100\n",
    "newtemp[['E %','H %','S %','T %']].reindex(['STEH','STH','TEH','SEH','STE','ST','TH','SH','TE','SE','EH','E','H','S','T'])"
   ]
  },
  {
   "cell_type": "markdown",
   "metadata": {},
   "source": [
    "We can look at the the two tables to see what percentages of the total population they were, and then observe the differences in those percentages."
   ]
  },
  {
   "cell_type": "code",
   "execution_count": 17,
   "metadata": {
    "collapsed": false
   },
   "outputs": [
    {
     "data": {
      "text/html": [
       "<div>\n",
       "<table border=\"1\" class=\"dataframe\">\n",
       "  <thead>\n",
       "    <tr style=\"text-align: right;\">\n",
       "      <th></th>\n",
       "      <th>E %</th>\n",
       "      <th>H %</th>\n",
       "      <th>S %</th>\n",
       "      <th>T %</th>\n",
       "    </tr>\n",
       "  </thead>\n",
       "  <tbody>\n",
       "    <tr>\n",
       "      <th>E</th>\n",
       "      <td>0.000000</td>\n",
       "      <td>0.000000</td>\n",
       "      <td>0.000000</td>\n",
       "      <td>0.000000</td>\n",
       "    </tr>\n",
       "    <tr>\n",
       "      <th>EH</th>\n",
       "      <td>-1.719878</td>\n",
       "      <td>2.340622</td>\n",
       "      <td>0.000000</td>\n",
       "      <td>0.000000</td>\n",
       "    </tr>\n",
       "    <tr>\n",
       "      <th>H</th>\n",
       "      <td>0.000000</td>\n",
       "      <td>0.000000</td>\n",
       "      <td>0.000000</td>\n",
       "      <td>0.000000</td>\n",
       "    </tr>\n",
       "    <tr>\n",
       "      <th>S</th>\n",
       "      <td>0.000000</td>\n",
       "      <td>0.000000</td>\n",
       "      <td>0.000000</td>\n",
       "      <td>0.000000</td>\n",
       "    </tr>\n",
       "    <tr>\n",
       "      <th>SE</th>\n",
       "      <td>0.669988</td>\n",
       "      <td>0.000000</td>\n",
       "      <td>-0.088380</td>\n",
       "      <td>0.000000</td>\n",
       "    </tr>\n",
       "    <tr>\n",
       "      <th>SEH</th>\n",
       "      <td>-1.045537</td>\n",
       "      <td>2.740654</td>\n",
       "      <td>-0.677058</td>\n",
       "      <td>0.000000</td>\n",
       "    </tr>\n",
       "    <tr>\n",
       "      <th>SH</th>\n",
       "      <td>0.000000</td>\n",
       "      <td>-3.269708</td>\n",
       "      <td>3.523707</td>\n",
       "      <td>0.000000</td>\n",
       "    </tr>\n",
       "    <tr>\n",
       "      <th>ST</th>\n",
       "      <td>0.000000</td>\n",
       "      <td>0.000000</td>\n",
       "      <td>-20.890673</td>\n",
       "      <td>21.593709</td>\n",
       "    </tr>\n",
       "    <tr>\n",
       "      <th>STE</th>\n",
       "      <td>-1.144272</td>\n",
       "      <td>0.000000</td>\n",
       "      <td>0.267879</td>\n",
       "      <td>1.340481</td>\n",
       "    </tr>\n",
       "    <tr>\n",
       "      <th>STEH</th>\n",
       "      <td>-2.969714</td>\n",
       "      <td>3.181364</td>\n",
       "      <td>-0.501012</td>\n",
       "      <td>1.260558</td>\n",
       "    </tr>\n",
       "    <tr>\n",
       "      <th>STH</th>\n",
       "      <td>0.000000</td>\n",
       "      <td>-0.684600</td>\n",
       "      <td>2.091811</td>\n",
       "      <td>-0.714734</td>\n",
       "    </tr>\n",
       "    <tr>\n",
       "      <th>T</th>\n",
       "      <td>0.000000</td>\n",
       "      <td>0.000000</td>\n",
       "      <td>0.000000</td>\n",
       "      <td>0.000000</td>\n",
       "    </tr>\n",
       "    <tr>\n",
       "      <th>TE</th>\n",
       "      <td>-1.512171</td>\n",
       "      <td>0.000000</td>\n",
       "      <td>0.000000</td>\n",
       "      <td>1.461444</td>\n",
       "    </tr>\n",
       "    <tr>\n",
       "      <th>TEH</th>\n",
       "      <td>-3.407424</td>\n",
       "      <td>2.926816</td>\n",
       "      <td>0.000000</td>\n",
       "      <td>1.124528</td>\n",
       "    </tr>\n",
       "    <tr>\n",
       "      <th>TH</th>\n",
       "      <td>0.000000</td>\n",
       "      <td>-2.090853</td>\n",
       "      <td>0.000000</td>\n",
       "      <td>2.510693</td>\n",
       "    </tr>\n",
       "  </tbody>\n",
       "</table>\n",
       "</div>"
      ],
      "text/plain": [
       "           E %       H %        S %        T %\n",
       "E     0.000000  0.000000   0.000000   0.000000\n",
       "EH   -1.719878  2.340622   0.000000   0.000000\n",
       "H     0.000000  0.000000   0.000000   0.000000\n",
       "S     0.000000  0.000000   0.000000   0.000000\n",
       "SE    0.669988  0.000000  -0.088380   0.000000\n",
       "SEH  -1.045537  2.740654  -0.677058   0.000000\n",
       "SH    0.000000 -3.269708   3.523707   0.000000\n",
       "ST    0.000000  0.000000 -20.890673  21.593709\n",
       "STE  -1.144272  0.000000   0.267879   1.340481\n",
       "STEH -2.969714  3.181364  -0.501012   1.260558\n",
       "STH   0.000000 -0.684600   2.091811  -0.714734\n",
       "T     0.000000  0.000000   0.000000   0.000000\n",
       "TE   -1.512171  0.000000   0.000000   1.461444\n",
       "TEH  -3.407424  2.926816   0.000000   1.124528\n",
       "TH    0.000000 -2.090853   0.000000   2.510693"
      ]
     },
     "execution_count": 17,
     "metadata": {},
     "output_type": "execute_result"
    }
   ],
   "source": [
    "orig_model_results = {'E': [100.0, 0.0, 0.0, 0.0],\n",
    " 'EH': [84.19, 15.81, 0.0, 0.0],\n",
    " 'H': [0.0, 100.0, 0.0, 0],\n",
    " 'S': [0.0, 0.0, 100.0, 0.0],\n",
    " 'SE': [90.1, 0.0, 9.99, 0.0],\n",
    " 'SEH': [74.97, 17.17, 7.86, 0.0],\n",
    " 'SH': [0.0, 91.39, 8.61, 0.0],\n",
    " 'ST': [0.0, 0.0, 66.12, 33.88],\n",
    " 'STE': [89.08, 0.0, 8.88, 2.04],\n",
    " 'STEH': [74.78,14.48,7.77,2.97],\n",
    " 'STH': [0.0, 83.77, 7.04, 9.19],\n",
    " 'T': [0.0, 0.0, 0.0, 100.0],\n",
    " 'TE': [97.91, 0.0, 0.0, 2.01],\n",
    " 'TEH': [82.35, 15.25, 0.0, 2.41],\n",
    " 'TH': [0.0, 88.72, 0.0, 11.28]}\n",
    "\n",
    "orig_model_table = pd.DataFrame(orig_model_results).transpose()\n",
    "orig_model_table.columns = ['E %', 'H %', 'S %', 'T %']\n",
    "orig_model_table.reindex(['STEH','STH','TEH','SEH','STE','ST','TH','SH','TE','SE','EH','E','H','S','T'])\n",
    "orig_model_table - newtemp[['E %','H %','S %','T %']]"
   ]
  },
  {
   "cell_type": "code",
   "execution_count": null,
   "metadata": {
    "collapsed": true
   },
   "outputs": [],
   "source": []
  },
  {
   "cell_type": "markdown",
   "metadata": {},
   "source": [
    "**I** - Our results above seem to match relatively closely with the table from the paper. The differences in percentages depicted above are not very large with the exception of the simulation where only selfish and traitorous behvaiors were included. Judging based on this fact, it should be safe to say that our implementation of the model is accurate to that of the original one."
   ]
  },
  {
   "cell_type": "markdown",
   "metadata": {},
   "source": [
    "![Allowed Behavior Mean Agent Counts](./images/meanagentstable.PNG)"
   ]
  },
  {
   "cell_type": "markdown",
   "metadata": {},
   "source": [
    "### Additional extensions\n",
    "We have not yet designed further experiments, because we would like to extend the model in ways that the papers we referenced have not tried yet. Below are a few ideas that we have brainstormed about potential model extensions:\n",
    "- Allowing for \"alliances\", agents which will cooperate with some agents of other tags.\n",
    "- Making tags more ambiguous, agents cannot tell for certain what tag another agent exhibits\n",
    "- Iterative game playing, with more complex strategies\n",
    "- Aging and lifespan (not a complete extension, but may be useful)"
   ]
  },
  {
   "cell_type": "markdown",
   "metadata": {},
   "source": [
    "### Learning Goals\n",
    "\n",
    "#### Subhash:\n",
    "I would like to gain a better understand of how agent based models are implemented and evolved. I want to learn what types of evaluation metrics matter for our experiments and explore how this project could be applied to other fields as well.\n",
    "\n",
    "Working through this implementation and performing the validation experiments has helped me achieve this goal. I have yet to see how we might apply this to other fields.\n",
    "\n",
    "#### Kai:\n",
    "I have made progress towards my learning goal in the process of implementing the ethnocentrism model. The experience of reading through a paper in order to recreate it's results was very valuable for me.\n",
    "\n",
    "For the rest of the project, I would like to do more exploration with extensions (as opposed copying existing experiments). In particular, I want to come up interesting extensions that are not so complex that they muddle insights. I want to ask questions that can be compared to human behavior (like original question of ethnocentrism), and hopefully answer them with experiments in our model."
   ]
  },
  {
   "cell_type": "markdown",
   "metadata": {},
   "source": [
    "## Bibliography\n",
    "- Ross Hammond, Robert Axelrod. [“The Evolution of Ethnocentrism” (2006).](\n",
    "http://citeseerx.ist.psu.edu/viewdoc/download?doi=10.1.1.576.4696&rep=rep1&type=pdf.)\n",
    "  *Investigates prisoner’s dilemma on a grid, with four basic tags and linked behaviors. Simulates the agents by playing the game one-off, with results having implications on individual reproductivity. Demonstrates that in-group favoritism can emerge as beneficial for groups, even when individual cooperation is costly.*\n",
    "\n",
    "\n",
    "- Max Hartshorna, Artem Kaznatcheeva, Thomas Shultz. [“The Evolutionary Dominance of Ethnocentric Cooperation” (2013).](http://jasss.soc.surrey.ac.uk/16/3/7.html)\n",
    "*Replicates the experiment from Hammond, Axelrod (2006). Investigates different “worlds” where certain behaviors may or may not be present, and demonstrates that humanitarianism becomes dominant in the absence of ethnocentrism, but ethnocentrism dominates otherwise.*\n",
    "\n",
    "\n",
    "- Jennifer Golbeck. [\"Evolving Strategies for the Prisoner’s Dilemma\" (2002).](https://www.cs.umd.edu/~golbeck/downloads/JGolbeck_prison.pdf)\n",
    "*This paper applies a genetic algorithm to the Prisoner’s Dilemma and evaluates the resulting winning strategies against two well-known effective strategies: Pavlov and Tit-for-tat. Each round of the algorithm is a series of multiple games with randomly strategized players, and the emerging strategies show aspects of the two control strategies.*\n",
    "\n",
    "\n",
    "- Wikipedia. [\"List of games in game theory\".](https://en.wikipedia.org/wiki/List_of_games_in_game_theory)\n",
    "*Contains a list of games for which we may apply agent-based models and evolutionary strategies in game theory.*"
   ]
  }
 ],
 "metadata": {
  "anaconda-cloud": {},
  "kernelspec": {
   "display_name": "Python 3",
   "language": "python",
   "name": "python3"
  },
  "language_info": {
   "codemirror_mode": {
    "name": "ipython",
    "version": 3
   },
   "file_extension": ".py",
   "mimetype": "text/x-python",
   "name": "python",
   "nbconvert_exporter": "python",
   "pygments_lexer": "ipython3",
   "version": "3.5.2"
  }
 },
 "nbformat": 4,
 "nbformat_minor": 1
}
